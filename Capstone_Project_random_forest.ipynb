{
  "nbformat": 4,
  "nbformat_minor": 0,
  "metadata": {
    "colab": {
      "provenance": [],
      "toc_visible": true,
      "authorship_tag": "ABX9TyP7ygpZX/QCMMUctuA69HAy",
      "include_colab_link": true
    },
    "kernelspec": {
      "name": "python3",
      "display_name": "Python 3"
    },
    "language_info": {
      "name": "python"
    }
  },
  "cells": [
    {
      "cell_type": "markdown",
      "metadata": {
        "id": "view-in-github",
        "colab_type": "text"
      },
      "source": [
        "<a href=\"https://colab.research.google.com/github/nsharma73/capstone_haystack/blob/main/Capstone_Project_random_forest.ipynb\" target=\"_parent\"><img src=\"https://colab.research.google.com/assets/colab-badge.svg\" alt=\"Open In Colab\"/></a>"
      ]
    },
    {
      "cell_type": "markdown",
      "source": [
        "# **Capstone Project - GA Real Estate - Random Forest**"
      ],
      "metadata": {
        "id": "qJE8rEgZ3-Ho"
      }
    },
    {
      "cell_type": "markdown",
      "source": [
        "*By Liliya Lopez*"
      ],
      "metadata": {
        "id": "mYf0Dwm6nGlG"
      }
    },
    {
      "cell_type": "markdown",
      "source": [
        "<img src='data:image/jpeg;base64,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'/>"
      ],
      "metadata": {
        "id": "jLZJAl_jnXT8"
      }
    },
    {
      "cell_type": "markdown",
      "source": [
        "## **1.Introduction**"
      ],
      "metadata": {
        "id": "cYZEeAjSnHYs"
      }
    },
    {
      "cell_type": "markdown",
      "source": [
        "#####**Libraries used**"
      ],
      "metadata": {
        "id": "w6q7Vm09nmWL"
      }
    },
    {
      "cell_type": "code",
      "execution_count": 14,
      "metadata": {
        "id": "FaXmvkLb32Ge"
      },
      "outputs": [],
      "source": [
        "import numpy as np\n",
        "import pandas as pd\n",
        "%matplotlib inline\n",
        "from matplotlib import pyplot as plt \n",
        "import seaborn as sns\n",
        "from sklearn.model_selection import train_test_split\n",
        "from sklearn.ensemble import RandomForestRegressor"
      ]
    },
    {
      "cell_type": "markdown",
      "source": [
        "##### **Import datasets**"
      ],
      "metadata": {
        "id": "lL2zjqcinw9W"
      }
    },
    {
      "cell_type": "code",
      "source": [
        "from google.colab import drive"
      ],
      "metadata": {
        "id": "H73vizqanpRL"
      },
      "execution_count": 15,
      "outputs": []
    },
    {
      "cell_type": "code",
      "source": [
        "drive.mount(\"/content/drive\")"
      ],
      "metadata": {
        "colab": {
          "base_uri": "https://localhost:8080/"
        },
        "id": "rfyo8Llen0mv",
        "outputId": "0b27130c-39ff-4f43-9536-e41534ff55d5"
      },
      "execution_count": 16,
      "outputs": [
        {
          "output_type": "stream",
          "name": "stdout",
          "text": [
            "Drive already mounted at /content/drive; to attempt to forcibly remount, call drive.mount(\"/content/drive\", force_remount=True).\n"
          ]
        }
      ]
    },
    {
      "cell_type": "code",
      "source": [
        "completed_data = pd.read_csv('drive/MyDrive/Colab Notebooks/zillow_schools_tax_dataV2.csv', index_col=0)\n",
        "pd.set_option('display.max_columns', 20)\n",
        "completed_data.reset_index(inplace=True)\n",
        "completed_data.head()"
      ],
      "metadata": {
        "colab": {
          "base_uri": "https://localhost:8080/",
          "height": 525
        },
        "id": "SDB3n6Akn36r",
        "outputId": "7f0b47eb-f548-478e-f98e-8c0c43784959"
      },
      "execution_count": 17,
      "outputs": [
        {
          "output_type": "execute_result",
          "data": {
            "text/plain": [
              "   rentZestimate  zestimate  price_y   PCT_CHG  bathrooms  bedrooms  \\\n",
              "0        2177.90  347870.00   339900  0.117940          2         4   \n",
              "1        2600.00  325200.00   310000  0.113899          3         5   \n",
              "2        1999.00  340500.00   315000  0.113899          2         3   \n",
              "3        1999.00  312758.00   310000  0.117940          2         3   \n",
              "4        1980.45  362160.13   369900  0.020674          2         3   \n",
              "\n",
              "   yearBuilt                       address         city    state  ...  \\\n",
              "0     2020.0            101 College Street    Kingsland  Georgia  ...   \n",
              "1     2004.0  169 School House Creek Drive  Saint Marys  Georgia  ...   \n",
              "2     2004.0          1621 Sandpiper Court  Saint Marys  Georgia  ...   \n",
              "3     2018.0  346 Laurel Landing Boulevard    Kingsland  Georgia  ...   \n",
              "4     2022.0                81 Ossabaw Way      Waverly  Georgia  ...   \n",
              "\n",
              "   other_crime_total_rate  Prop_Cond_Grp_New  Prop_Cond_Grp_Remodeled  \\\n",
              "0                   6.365                  0                        0   \n",
              "1                   6.815                  0                        0   \n",
              "2                   6.815                  0                        0   \n",
              "3                   6.365                  0                        0   \n",
              "4                   7.125                  1                        0   \n",
              "\n",
              "   Prop_Cond_Grp_Resale  Two_Car_Garage_0  Two_Car_Garage_1  HasPool_0  \\\n",
              "0                     1                 0                 1          1   \n",
              "1                     1                 1                 0          1   \n",
              "2                     1                 0                 1          1   \n",
              "3                     1                 1                 0          1   \n",
              "4                     0                 0                 1          1   \n",
              "\n",
              "   HasPool_1  HasHardwood_0  HasHardwood_1  \n",
              "0          0              1              0  \n",
              "1          0              1              0  \n",
              "2          0              1              0  \n",
              "3          0              1              0  \n",
              "4          0              1              0  \n",
              "\n",
              "[5 rows x 47 columns]"
            ],
            "text/html": [
              "\n",
              "  <div id=\"df-a0e7c5b2-0638-4224-b9ee-084a662106d2\">\n",
              "    <div class=\"colab-df-container\">\n",
              "      <div>\n",
              "<style scoped>\n",
              "    .dataframe tbody tr th:only-of-type {\n",
              "        vertical-align: middle;\n",
              "    }\n",
              "\n",
              "    .dataframe tbody tr th {\n",
              "        vertical-align: top;\n",
              "    }\n",
              "\n",
              "    .dataframe thead th {\n",
              "        text-align: right;\n",
              "    }\n",
              "</style>\n",
              "<table border=\"1\" class=\"dataframe\">\n",
              "  <thead>\n",
              "    <tr style=\"text-align: right;\">\n",
              "      <th></th>\n",
              "      <th>rentZestimate</th>\n",
              "      <th>zestimate</th>\n",
              "      <th>price_y</th>\n",
              "      <th>PCT_CHG</th>\n",
              "      <th>bathrooms</th>\n",
              "      <th>bedrooms</th>\n",
              "      <th>yearBuilt</th>\n",
              "      <th>address</th>\n",
              "      <th>city</th>\n",
              "      <th>state</th>\n",
              "      <th>...</th>\n",
              "      <th>other_crime_total_rate</th>\n",
              "      <th>Prop_Cond_Grp_New</th>\n",
              "      <th>Prop_Cond_Grp_Remodeled</th>\n",
              "      <th>Prop_Cond_Grp_Resale</th>\n",
              "      <th>Two_Car_Garage_0</th>\n",
              "      <th>Two_Car_Garage_1</th>\n",
              "      <th>HasPool_0</th>\n",
              "      <th>HasPool_1</th>\n",
              "      <th>HasHardwood_0</th>\n",
              "      <th>HasHardwood_1</th>\n",
              "    </tr>\n",
              "  </thead>\n",
              "  <tbody>\n",
              "    <tr>\n",
              "      <th>0</th>\n",
              "      <td>2177.90</td>\n",
              "      <td>347870.00</td>\n",
              "      <td>339900</td>\n",
              "      <td>0.117940</td>\n",
              "      <td>2</td>\n",
              "      <td>4</td>\n",
              "      <td>2020.0</td>\n",
              "      <td>101 College Street</td>\n",
              "      <td>Kingsland</td>\n",
              "      <td>Georgia</td>\n",
              "      <td>...</td>\n",
              "      <td>6.365</td>\n",
              "      <td>0</td>\n",
              "      <td>0</td>\n",
              "      <td>1</td>\n",
              "      <td>0</td>\n",
              "      <td>1</td>\n",
              "      <td>1</td>\n",
              "      <td>0</td>\n",
              "      <td>1</td>\n",
              "      <td>0</td>\n",
              "    </tr>\n",
              "    <tr>\n",
              "      <th>1</th>\n",
              "      <td>2600.00</td>\n",
              "      <td>325200.00</td>\n",
              "      <td>310000</td>\n",
              "      <td>0.113899</td>\n",
              "      <td>3</td>\n",
              "      <td>5</td>\n",
              "      <td>2004.0</td>\n",
              "      <td>169 School House Creek Drive</td>\n",
              "      <td>Saint Marys</td>\n",
              "      <td>Georgia</td>\n",
              "      <td>...</td>\n",
              "      <td>6.815</td>\n",
              "      <td>0</td>\n",
              "      <td>0</td>\n",
              "      <td>1</td>\n",
              "      <td>1</td>\n",
              "      <td>0</td>\n",
              "      <td>1</td>\n",
              "      <td>0</td>\n",
              "      <td>1</td>\n",
              "      <td>0</td>\n",
              "    </tr>\n",
              "    <tr>\n",
              "      <th>2</th>\n",
              "      <td>1999.00</td>\n",
              "      <td>340500.00</td>\n",
              "      <td>315000</td>\n",
              "      <td>0.113899</td>\n",
              "      <td>2</td>\n",
              "      <td>3</td>\n",
              "      <td>2004.0</td>\n",
              "      <td>1621 Sandpiper Court</td>\n",
              "      <td>Saint Marys</td>\n",
              "      <td>Georgia</td>\n",
              "      <td>...</td>\n",
              "      <td>6.815</td>\n",
              "      <td>0</td>\n",
              "      <td>0</td>\n",
              "      <td>1</td>\n",
              "      <td>0</td>\n",
              "      <td>1</td>\n",
              "      <td>1</td>\n",
              "      <td>0</td>\n",
              "      <td>1</td>\n",
              "      <td>0</td>\n",
              "    </tr>\n",
              "    <tr>\n",
              "      <th>3</th>\n",
              "      <td>1999.00</td>\n",
              "      <td>312758.00</td>\n",
              "      <td>310000</td>\n",
              "      <td>0.117940</td>\n",
              "      <td>2</td>\n",
              "      <td>3</td>\n",
              "      <td>2018.0</td>\n",
              "      <td>346 Laurel Landing Boulevard</td>\n",
              "      <td>Kingsland</td>\n",
              "      <td>Georgia</td>\n",
              "      <td>...</td>\n",
              "      <td>6.365</td>\n",
              "      <td>0</td>\n",
              "      <td>0</td>\n",
              "      <td>1</td>\n",
              "      <td>1</td>\n",
              "      <td>0</td>\n",
              "      <td>1</td>\n",
              "      <td>0</td>\n",
              "      <td>1</td>\n",
              "      <td>0</td>\n",
              "    </tr>\n",
              "    <tr>\n",
              "      <th>4</th>\n",
              "      <td>1980.45</td>\n",
              "      <td>362160.13</td>\n",
              "      <td>369900</td>\n",
              "      <td>0.020674</td>\n",
              "      <td>2</td>\n",
              "      <td>3</td>\n",
              "      <td>2022.0</td>\n",
              "      <td>81 Ossabaw Way</td>\n",
              "      <td>Waverly</td>\n",
              "      <td>Georgia</td>\n",
              "      <td>...</td>\n",
              "      <td>7.125</td>\n",
              "      <td>1</td>\n",
              "      <td>0</td>\n",
              "      <td>0</td>\n",
              "      <td>0</td>\n",
              "      <td>1</td>\n",
              "      <td>1</td>\n",
              "      <td>0</td>\n",
              "      <td>1</td>\n",
              "      <td>0</td>\n",
              "    </tr>\n",
              "  </tbody>\n",
              "</table>\n",
              "<p>5 rows × 47 columns</p>\n",
              "</div>\n",
              "      <button class=\"colab-df-convert\" onclick=\"convertToInteractive('df-a0e7c5b2-0638-4224-b9ee-084a662106d2')\"\n",
              "              title=\"Convert this dataframe to an interactive table.\"\n",
              "              style=\"display:none;\">\n",
              "        \n",
              "  <svg xmlns=\"http://www.w3.org/2000/svg\" height=\"24px\"viewBox=\"0 0 24 24\"\n",
              "       width=\"24px\">\n",
              "    <path d=\"M0 0h24v24H0V0z\" fill=\"none\"/>\n",
              "    <path d=\"M18.56 5.44l.94 2.06.94-2.06 2.06-.94-2.06-.94-.94-2.06-.94 2.06-2.06.94zm-11 1L8.5 8.5l.94-2.06 2.06-.94-2.06-.94L8.5 2.5l-.94 2.06-2.06.94zm10 10l.94 2.06.94-2.06 2.06-.94-2.06-.94-.94-2.06-.94 2.06-2.06.94z\"/><path d=\"M17.41 7.96l-1.37-1.37c-.4-.4-.92-.59-1.43-.59-.52 0-1.04.2-1.43.59L10.3 9.45l-7.72 7.72c-.78.78-.78 2.05 0 2.83L4 21.41c.39.39.9.59 1.41.59.51 0 1.02-.2 1.41-.59l7.78-7.78 2.81-2.81c.8-.78.8-2.07 0-2.86zM5.41 20L4 18.59l7.72-7.72 1.47 1.35L5.41 20z\"/>\n",
              "  </svg>\n",
              "      </button>\n",
              "      \n",
              "  <style>\n",
              "    .colab-df-container {\n",
              "      display:flex;\n",
              "      flex-wrap:wrap;\n",
              "      gap: 12px;\n",
              "    }\n",
              "\n",
              "    .colab-df-convert {\n",
              "      background-color: #E8F0FE;\n",
              "      border: none;\n",
              "      border-radius: 50%;\n",
              "      cursor: pointer;\n",
              "      display: none;\n",
              "      fill: #1967D2;\n",
              "      height: 32px;\n",
              "      padding: 0 0 0 0;\n",
              "      width: 32px;\n",
              "    }\n",
              "\n",
              "    .colab-df-convert:hover {\n",
              "      background-color: #E2EBFA;\n",
              "      box-shadow: 0px 1px 2px rgba(60, 64, 67, 0.3), 0px 1px 3px 1px rgba(60, 64, 67, 0.15);\n",
              "      fill: #174EA6;\n",
              "    }\n",
              "\n",
              "    [theme=dark] .colab-df-convert {\n",
              "      background-color: #3B4455;\n",
              "      fill: #D2E3FC;\n",
              "    }\n",
              "\n",
              "    [theme=dark] .colab-df-convert:hover {\n",
              "      background-color: #434B5C;\n",
              "      box-shadow: 0px 1px 3px 1px rgba(0, 0, 0, 0.15);\n",
              "      filter: drop-shadow(0px 1px 2px rgba(0, 0, 0, 0.3));\n",
              "      fill: #FFFFFF;\n",
              "    }\n",
              "  </style>\n",
              "\n",
              "      <script>\n",
              "        const buttonEl =\n",
              "          document.querySelector('#df-a0e7c5b2-0638-4224-b9ee-084a662106d2 button.colab-df-convert');\n",
              "        buttonEl.style.display =\n",
              "          google.colab.kernel.accessAllowed ? 'block' : 'none';\n",
              "\n",
              "        async function convertToInteractive(key) {\n",
              "          const element = document.querySelector('#df-a0e7c5b2-0638-4224-b9ee-084a662106d2');\n",
              "          const dataTable =\n",
              "            await google.colab.kernel.invokeFunction('convertToInteractive',\n",
              "                                                     [key], {});\n",
              "          if (!dataTable) return;\n",
              "\n",
              "          const docLinkHtml = 'Like what you see? Visit the ' +\n",
              "            '<a target=\"_blank\" href=https://colab.research.google.com/notebooks/data_table.ipynb>data table notebook</a>'\n",
              "            + ' to learn more about interactive tables.';\n",
              "          element.innerHTML = '';\n",
              "          dataTable['output_type'] = 'display_data';\n",
              "          await google.colab.output.renderOutput(dataTable, element);\n",
              "          const docLink = document.createElement('div');\n",
              "          docLink.innerHTML = docLinkHtml;\n",
              "          element.appendChild(docLink);\n",
              "        }\n",
              "      </script>\n",
              "    </div>\n",
              "  </div>\n",
              "  "
            ]
          },
          "metadata": {},
          "execution_count": 17
        }
      ]
    },
    {
      "cell_type": "code",
      "source": [
        "sum(completed_data.duplicated())"
      ],
      "metadata": {
        "colab": {
          "base_uri": "https://localhost:8080/"
        },
        "id": "Rg8XrcmttbeY",
        "outputId": "f541b2e1-fba6-40d7-b8d3-1fe8752b2733"
      },
      "execution_count": 25,
      "outputs": [
        {
          "output_type": "execute_result",
          "data": {
            "text/plain": [
              "0"
            ]
          },
          "metadata": {},
          "execution_count": 25
        }
      ]
    },
    {
      "cell_type": "code",
      "source": [
        "completed_data.isnull().sum(axis=0)"
      ],
      "metadata": {
        "colab": {
          "base_uri": "https://localhost:8080/"
        },
        "id": "KXxdQwJ5tdoZ",
        "outputId": "3ce34923-27ea-41d8-9dc4-5ca6c948c0fb"
      },
      "execution_count": 26,
      "outputs": [
        {
          "output_type": "execute_result",
          "data": {
            "text/plain": [
              "rentZestimate                0\n",
              "zestimate                    0\n",
              "price_y                      0\n",
              "PCT_CHG                      0\n",
              "bathrooms                    0\n",
              "bedrooms                     0\n",
              "yearBuilt                    0\n",
              "address                      0\n",
              "city                         0\n",
              "state                        0\n",
              "zip                          0\n",
              "latitude                     0\n",
              "longitude                    0\n",
              "livingArea                   0\n",
              "Lot_Size_SqFt                0\n",
              "Price_SqFt                   0\n",
              "cap_rate                     0\n",
              "Tot_Appl                     0\n",
              "Tot_Comm_Feat                0\n",
              "Page_Views                   0\n",
              "Sch_Rat_Avg                  0\n",
              "Sch_Dist_Avg                 0\n",
              "sch_cnt                      0\n",
              "Individuals_taxed            0\n",
              "Income_per_return            0\n",
              "Cap_gain                     0\n",
              "Pension                      0\n",
              "UE_claims                    0\n",
              "Social_security              0\n",
              "SB_income                    0\n",
              "Student_loan_ded             0\n",
              "RE_taxes                     0\n",
              "PP_taxes                     0\n",
              "Child_credit                 0\n",
              "Earned_Inc_credit            0\n",
              "violent_crime_total_rate     0\n",
              "property_crime_total_rate    0\n",
              "other_crime_total_rate       0\n",
              "Prop_Cond_Grp_New            0\n",
              "Prop_Cond_Grp_Remodeled      0\n",
              "Prop_Cond_Grp_Resale         0\n",
              "Two_Car_Garage_0             0\n",
              "Two_Car_Garage_1             0\n",
              "HasPool_0                    0\n",
              "HasPool_1                    0\n",
              "HasHardwood_0                0\n",
              "HasHardwood_1                0\n",
              "dtype: int64"
            ]
          },
          "metadata": {},
          "execution_count": 26
        }
      ]
    },
    {
      "cell_type": "markdown",
      "source": [
        "## **2.Random Forest**"
      ],
      "metadata": {
        "id": "UwxwGZQNoDR_"
      }
    },
    {
      "cell_type": "code",
      "source": [
        "num_features = completed_data.select_dtypes(include=['int64','float64'])\n",
        "num_features.columns"
      ],
      "metadata": {
        "colab": {
          "base_uri": "https://localhost:8080/"
        },
        "id": "d9JJk_APn__o",
        "outputId": "0be3f76b-11e2-49e2-97db-b014cf38d61a"
      },
      "execution_count": 28,
      "outputs": [
        {
          "output_type": "execute_result",
          "data": {
            "text/plain": [
              "Index(['rentZestimate', 'zestimate', 'price_y', 'PCT_CHG', 'bathrooms',\n",
              "       'bedrooms', 'yearBuilt', 'zip', 'latitude', 'longitude', 'livingArea',\n",
              "       'Lot_Size_SqFt', 'Price_SqFt', 'cap_rate', 'Tot_Appl', 'Tot_Comm_Feat',\n",
              "       'Page_Views', 'Sch_Rat_Avg', 'Sch_Dist_Avg', 'sch_cnt',\n",
              "       'Individuals_taxed', 'Income_per_return', 'Cap_gain', 'Pension',\n",
              "       'UE_claims', 'Social_security', 'SB_income', 'Student_loan_ded',\n",
              "       'RE_taxes', 'PP_taxes', 'Child_credit', 'Earned_Inc_credit',\n",
              "       'violent_crime_total_rate', 'property_crime_total_rate',\n",
              "       'other_crime_total_rate', 'Prop_Cond_Grp_New',\n",
              "       'Prop_Cond_Grp_Remodeled', 'Prop_Cond_Grp_Resale', 'Two_Car_Garage_0',\n",
              "       'Two_Car_Garage_1', 'HasPool_0', 'HasPool_1', 'HasHardwood_0',\n",
              "       'HasHardwood_1'],\n",
              "      dtype='object')"
            ]
          },
          "metadata": {},
          "execution_count": 28
        }
      ]
    },
    {
      "cell_type": "code",
      "source": [
        "numerical_features = num_features.drop(['rentZestimate', 'zestimate', 'price_y'], axis =1)\n",
        "numerical_features.columns"
      ],
      "metadata": {
        "colab": {
          "base_uri": "https://localhost:8080/"
        },
        "id": "MDyUuI1BoT_V",
        "outputId": "2f344ff9-558d-4643-db8c-7c6bc3cfa936"
      },
      "execution_count": 29,
      "outputs": [
        {
          "output_type": "execute_result",
          "data": {
            "text/plain": [
              "Index(['PCT_CHG', 'bathrooms', 'bedrooms', 'yearBuilt', 'zip', 'latitude',\n",
              "       'longitude', 'livingArea', 'Lot_Size_SqFt', 'Price_SqFt', 'cap_rate',\n",
              "       'Tot_Appl', 'Tot_Comm_Feat', 'Page_Views', 'Sch_Rat_Avg',\n",
              "       'Sch_Dist_Avg', 'sch_cnt', 'Individuals_taxed', 'Income_per_return',\n",
              "       'Cap_gain', 'Pension', 'UE_claims', 'Social_security', 'SB_income',\n",
              "       'Student_loan_ded', 'RE_taxes', 'PP_taxes', 'Child_credit',\n",
              "       'Earned_Inc_credit', 'violent_crime_total_rate',\n",
              "       'property_crime_total_rate', 'other_crime_total_rate',\n",
              "       'Prop_Cond_Grp_New', 'Prop_Cond_Grp_Remodeled', 'Prop_Cond_Grp_Resale',\n",
              "       'Two_Car_Garage_0', 'Two_Car_Garage_1', 'HasPool_0', 'HasPool_1',\n",
              "       'HasHardwood_0', 'HasHardwood_1'],\n",
              "      dtype='object')"
            ]
          },
          "metadata": {},
          "execution_count": 29
        }
      ]
    },
    {
      "cell_type": "code",
      "source": [
        "price = num_features.zestimate"
      ],
      "metadata": {
        "id": "3Iu6_jJppAIX"
      },
      "execution_count": 30,
      "outputs": []
    },
    {
      "cell_type": "code",
      "source": [
        "X_train, X_test, y_train, y_test = train_test_split(numerical_features, price, test_size=0.25, random_state=12)"
      ],
      "metadata": {
        "id": "EeLFOZ2xpPUM"
      },
      "execution_count": 31,
      "outputs": []
    },
    {
      "cell_type": "code",
      "source": [
        "rf = RandomForestRegressor(n_estimators=100)\n",
        "rf.fit(X_train, y_train)"
      ],
      "metadata": {
        "colab": {
          "base_uri": "https://localhost:8080/"
        },
        "id": "kW0KOihLpRjL",
        "outputId": "652dc0ca-3759-4940-dcca-419a672e39ab"
      },
      "execution_count": 32,
      "outputs": [
        {
          "output_type": "execute_result",
          "data": {
            "text/plain": [
              "RandomForestRegressor()"
            ]
          },
          "metadata": {},
          "execution_count": 32
        }
      ]
    },
    {
      "cell_type": "code",
      "source": [
        "rf.feature_importances_"
      ],
      "metadata": {
        "colab": {
          "base_uri": "https://localhost:8080/"
        },
        "id": "UFBSYhAApW7i",
        "outputId": "ceed6669-f9d0-496a-cfa0-316e3b91ddda"
      },
      "execution_count": 33,
      "outputs": [
        {
          "output_type": "execute_result",
          "data": {
            "text/plain": [
              "array([8.36381453e-03, 4.20380048e-03, 3.43063308e-03, 2.26029964e-02,\n",
              "       6.68579928e-03, 1.10350308e-02, 8.59357420e-03, 3.71542647e-01,\n",
              "       1.33649512e-02, 2.44678325e-01, 9.62267301e-02, 1.22693949e-02,\n",
              "       1.06136328e-02, 2.50298066e-02, 7.66249309e-03, 9.62426275e-03,\n",
              "       1.94708129e-03, 7.92304095e-03, 2.41768491e-02, 5.82575057e-03,\n",
              "       4.93133442e-03, 7.41984820e-03, 1.97727607e-02, 5.57092700e-03,\n",
              "       5.90618566e-03, 1.41228545e-02, 5.39185660e-03, 6.57630103e-03,\n",
              "       9.34463533e-03, 5.79948162e-03, 6.64437977e-03, 5.54637761e-03,\n",
              "       2.86695476e-04, 4.46620057e-04, 6.62765151e-04, 9.16136181e-04,\n",
              "       1.38392917e-03, 6.12052661e-05, 3.74303566e-05, 1.70217532e-03,\n",
              "       1.67548619e-03])"
            ]
          },
          "metadata": {},
          "execution_count": 33
        }
      ]
    },
    {
      "cell_type": "code",
      "source": [
        "sorted_idx = rf.feature_importances_.argsort()\n",
        "plt.figure(figsize=(15, 10))\n",
        "plt.barh(numerical_features.columns[sorted_idx], rf.feature_importances_[sorted_idx])\n",
        "plt.xlabel(\"Random Forest Feature Importance\")"
      ],
      "metadata": {
        "colab": {
          "base_uri": "https://localhost:8080/",
          "height": 623
        },
        "id": "y6O0w0I8paMW",
        "outputId": "041b75bb-14db-4c9c-a9ef-9a2e80021b07"
      },
      "execution_count": 35,
      "outputs": [
        {
          "output_type": "execute_result",
          "data": {
            "text/plain": [
              "Text(0.5, 0, 'Random Forest Feature Importance')"
            ]
          },
          "metadata": {},
          "execution_count": 35
        },
        {
          "output_type": "display_data",
          "data": {
            "text/plain": [
              "<Figure size 1080x720 with 1 Axes>"
            ],
            "image/png": "[encoded data removed]"
          },
          "metadata": {
            "needs_background": "light"
          }
        }
      ]
    }
  ]
}